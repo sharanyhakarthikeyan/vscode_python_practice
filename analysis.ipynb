{
 "cells": [
  {
   "cell_type": "code",
   "execution_count": 1,
   "metadata": {},
   "outputs": [
    {
     "ename": "ModuleNotFoundError",
     "evalue": "No module named 'plotnine'",
     "output_type": "error",
     "traceback": [
      "\u001b[1;31m---------------------------------------------------------------------------\u001b[0m",
      "\u001b[1;31mModuleNotFoundError\u001b[0m                       Traceback (most recent call last)",
      "\u001b[1;32m~\\AppData\\Local\\Temp/ipykernel_10264/604441668.py\u001b[0m in \u001b[0;36m<module>\u001b[1;34m\u001b[0m\n\u001b[0;32m      6\u001b[0m \u001b[1;32mfrom\u001b[0m \u001b[0mcollections\u001b[0m \u001b[1;32mimport\u001b[0m \u001b[0mdefaultdict\u001b[0m\u001b[1;33m\u001b[0m\u001b[1;33m\u001b[0m\u001b[0m\n\u001b[0;32m      7\u001b[0m \u001b[1;32mfrom\u001b[0m \u001b[0mmatplotlib\u001b[0m \u001b[1;32mimport\u001b[0m \u001b[0mpyplot\u001b[0m \u001b[1;32mas\u001b[0m \u001b[0mplt\u001b[0m\u001b[1;33m\u001b[0m\u001b[1;33m\u001b[0m\u001b[0m\n\u001b[1;32m----> 8\u001b[1;33m \u001b[1;32mfrom\u001b[0m \u001b[0mplotnine\u001b[0m \u001b[1;32mimport\u001b[0m \u001b[1;33m*\u001b[0m\u001b[1;33m\u001b[0m\u001b[1;33m\u001b[0m\u001b[0m\n\u001b[0m",
      "\u001b[1;31mModuleNotFoundError\u001b[0m: No module named 'plotnine'"
     ]
    }
   ],
   "source": [
    "# Load the Pandas library and give it the short name 'pd'\n",
    "# Load the defaultdict object from the collections library\n",
    "# Load pyplot frm the matplotlib libaray and give it the short name 'plt'\n",
    "# Load everything from the plotnine library\n",
    "import pandas as pd  \n",
    "from collections import defaultdict \n",
    "from matplotlib import pyplot as plt\n",
    "from plotnine import *"
   ]
  },
  {
   "cell_type": "code",
   "execution_count": 2,
   "metadata": {},
   "outputs": [],
   "source": [
    "# Load the licensed_premises_feb_2015_0_1.xlsx spreadsheet into a Pandas dataframe\n",
    "df = pd.read_excel('licensed_premises_feb_2015_0_1.xlsx')"
   ]
  },
  {
   "cell_type": "code",
   "execution_count": 3,
   "metadata": {},
   "outputs": [
    {
     "name": "stdout",
     "output_type": "stream",
     "text": [
      "(800, 7)\n"
     ]
    }
   ],
   "source": [
    "# Display the dataframe's shape\n",
    "print (df.shape)"
   ]
  },
  {
   "cell_type": "code",
   "execution_count": 4,
   "metadata": {},
   "outputs": [
    {
     "name": "stdout",
     "output_type": "stream",
     "text": [
      "There are 800 premises in the dataset.\n"
     ]
    }
   ],
   "source": [
    "# Our first report\n",
    "report = \"There are \" + str(df.shape[0]) + \" premises in the dataset.\"\n",
    "print (report)"
   ]
  },
  {
   "cell_type": "code",
   "execution_count": 5,
   "metadata": {},
   "outputs": [
    {
     "data": {
      "text/html": [
       "<div>\n",
       "<style scoped>\n",
       "    .dataframe tbody tr th:only-of-type {\n",
       "        vertical-align: middle;\n",
       "    }\n",
       "\n",
       "    .dataframe tbody tr th {\n",
       "        vertical-align: top;\n",
       "    }\n",
       "\n",
       "    .dataframe thead th {\n",
       "        text-align: right;\n",
       "    }\n",
       "</style>\n",
       "<table border=\"1\" class=\"dataframe\">\n",
       "  <thead>\n",
       "    <tr style=\"text-align: right;\">\n",
       "      <th></th>\n",
       "      <th>ServiceTypeLabel</th>\n",
       "      <th>PremisesName</th>\n",
       "      <th>LocationText</th>\n",
       "      <th>PostCode</th>\n",
       "      <th>AlcoholSupply</th>\n",
       "      <th>OpeningHours</th>\n",
       "      <th>StatusLabel</th>\n",
       "    </tr>\n",
       "  </thead>\n",
       "  <tbody>\n",
       "    <tr>\n",
       "      <th>count</th>\n",
       "      <td>800</td>\n",
       "      <td>800</td>\n",
       "      <td>800</td>\n",
       "      <td>57</td>\n",
       "      <td>800</td>\n",
       "      <td>414</td>\n",
       "      <td>800</td>\n",
       "    </tr>\n",
       "    <tr>\n",
       "      <th>unique</th>\n",
       "      <td>3</td>\n",
       "      <td>675</td>\n",
       "      <td>675</td>\n",
       "      <td>54</td>\n",
       "      <td>2</td>\n",
       "      <td>193</td>\n",
       "      <td>7</td>\n",
       "    </tr>\n",
       "    <tr>\n",
       "      <th>top</th>\n",
       "      <td>Premises licence</td>\n",
       "      <td>Tiger Tiger</td>\n",
       "      <td>Newcastle upon Tyne</td>\n",
       "      <td>NE1 6QG</td>\n",
       "      <td>True</td>\n",
       "      <td>Su 10:00:00-22:30:00</td>\n",
       "      <td>Issued</td>\n",
       "    </tr>\n",
       "    <tr>\n",
       "      <th>freq</th>\n",
       "      <td>569</td>\n",
       "      <td>17</td>\n",
       "      <td>25</td>\n",
       "      <td>2</td>\n",
       "      <td>424</td>\n",
       "      <td>105</td>\n",
       "      <td>361</td>\n",
       "    </tr>\n",
       "  </tbody>\n",
       "</table>\n",
       "</div>"
      ],
      "text/plain": [
       "        ServiceTypeLabel PremisesName         LocationText PostCode  \\\n",
       "count                800          800                  800       57   \n",
       "unique                 3          675                  675       54   \n",
       "top     Premises licence  Tiger Tiger  Newcastle upon Tyne  NE1 6QG   \n",
       "freq                 569           17                   25        2   \n",
       "\n",
       "       AlcoholSupply          OpeningHours StatusLabel  \n",
       "count            800                   414         800  \n",
       "unique             2                   193           7  \n",
       "top             True  Su 10:00:00-22:30:00      Issued  \n",
       "freq             424                   105         361  "
      ]
     },
     "execution_count": 5,
     "metadata": {},
     "output_type": "execute_result"
    }
   ],
   "source": [
    "df.describe()"
   ]
  },
  {
   "cell_type": "code",
   "execution_count": 6,
   "metadata": {},
   "outputs": [
    {
     "data": {
      "text/html": [
       "<div>\n",
       "<style scoped>\n",
       "    .dataframe tbody tr th:only-of-type {\n",
       "        vertical-align: middle;\n",
       "    }\n",
       "\n",
       "    .dataframe tbody tr th {\n",
       "        vertical-align: top;\n",
       "    }\n",
       "\n",
       "    .dataframe thead th {\n",
       "        text-align: right;\n",
       "    }\n",
       "</style>\n",
       "<table border=\"1\" class=\"dataframe\">\n",
       "  <thead>\n",
       "    <tr style=\"text-align: right;\">\n",
       "      <th></th>\n",
       "      <th>ServiceTypeLabel</th>\n",
       "      <th>PremisesName</th>\n",
       "      <th>LocationText</th>\n",
       "      <th>PostCode</th>\n",
       "      <th>AlcoholSupply</th>\n",
       "      <th>OpeningHours</th>\n",
       "      <th>StatusLabel</th>\n",
       "    </tr>\n",
       "  </thead>\n",
       "  <tbody>\n",
       "    <tr>\n",
       "      <th>count</th>\n",
       "      <td>800</td>\n",
       "      <td>800</td>\n",
       "      <td>800</td>\n",
       "      <td>57</td>\n",
       "      <td>800</td>\n",
       "      <td>414</td>\n",
       "      <td>800</td>\n",
       "    </tr>\n",
       "    <tr>\n",
       "      <th>unique</th>\n",
       "      <td>3</td>\n",
       "      <td>675</td>\n",
       "      <td>675</td>\n",
       "      <td>54</td>\n",
       "      <td>2</td>\n",
       "      <td>193</td>\n",
       "      <td>7</td>\n",
       "    </tr>\n",
       "    <tr>\n",
       "      <th>top</th>\n",
       "      <td>Premises licence</td>\n",
       "      <td>Tiger Tiger</td>\n",
       "      <td>Newcastle upon Tyne</td>\n",
       "      <td>NE1 6QG</td>\n",
       "      <td>True</td>\n",
       "      <td>Su 10:00:00-22:30:00</td>\n",
       "      <td>Issued</td>\n",
       "    </tr>\n",
       "    <tr>\n",
       "      <th>freq</th>\n",
       "      <td>569</td>\n",
       "      <td>17</td>\n",
       "      <td>25</td>\n",
       "      <td>2</td>\n",
       "      <td>424</td>\n",
       "      <td>105</td>\n",
       "      <td>361</td>\n",
       "    </tr>\n",
       "  </tbody>\n",
       "</table>\n",
       "</div>"
      ],
      "text/plain": [
       "        ServiceTypeLabel PremisesName         LocationText PostCode  \\\n",
       "count                800          800                  800       57   \n",
       "unique                 3          675                  675       54   \n",
       "top     Premises licence  Tiger Tiger  Newcastle upon Tyne  NE1 6QG   \n",
       "freq                 569           17                   25        2   \n",
       "\n",
       "       AlcoholSupply          OpeningHours StatusLabel  \n",
       "count            800                   414         800  \n",
       "unique             2                   193           7  \n",
       "top             True  Su 10:00:00-22:30:00      Issued  \n",
       "freq             424                   105         361  "
      ]
     },
     "execution_count": 6,
     "metadata": {},
     "output_type": "execute_result"
    }
   ],
   "source": [
    "df.describe(include='all')"
   ]
  },
  {
   "cell_type": "code",
   "execution_count": 7,
   "metadata": {},
   "outputs": [
    {
     "data": {
      "text/html": [
       "<div>\n",
       "<style scoped>\n",
       "    .dataframe tbody tr th:only-of-type {\n",
       "        vertical-align: middle;\n",
       "    }\n",
       "\n",
       "    .dataframe tbody tr th {\n",
       "        vertical-align: top;\n",
       "    }\n",
       "\n",
       "    .dataframe thead th {\n",
       "        text-align: right;\n",
       "    }\n",
       "</style>\n",
       "<table border=\"1\" class=\"dataframe\">\n",
       "  <thead>\n",
       "    <tr style=\"text-align: right;\">\n",
       "      <th></th>\n",
       "      <th>ServiceTypeLabel</th>\n",
       "      <th>PremisesName</th>\n",
       "      <th>LocationText</th>\n",
       "      <th>PostCode</th>\n",
       "      <th>AlcoholSupply</th>\n",
       "      <th>OpeningHours</th>\n",
       "      <th>StatusLabel</th>\n",
       "    </tr>\n",
       "  </thead>\n",
       "  <tbody>\n",
       "    <tr>\n",
       "      <th>0</th>\n",
       "      <td>Temporary event notice</td>\n",
       "      <td>O'Neills</td>\n",
       "      <td>38 Neville Street</td>\n",
       "      <td>NaN</td>\n",
       "      <td>False</td>\n",
       "      <td>NaN</td>\n",
       "      <td>Withdrawn</td>\n",
       "    </tr>\n",
       "    <tr>\n",
       "      <th>1</th>\n",
       "      <td>Premises licence</td>\n",
       "      <td>Gosforth Bowling Club</td>\n",
       "      <td>West Avenue,Gosforth</td>\n",
       "      <td>NE3 4ES</td>\n",
       "      <td>True</td>\n",
       "      <td>Su 12:00:00-22:30:00</td>\n",
       "      <td>Issued</td>\n",
       "    </tr>\n",
       "    <tr>\n",
       "      <th>2</th>\n",
       "      <td>Premises licence</td>\n",
       "      <td>Richard Granger Wines</td>\n",
       "      <td>West Jesmond Station,Lyndhurst Avenue</td>\n",
       "      <td>NE2 3HH</td>\n",
       "      <td>True</td>\n",
       "      <td>Su 10:00:00-22:30:00</td>\n",
       "      <td>Issued</td>\n",
       "    </tr>\n",
       "    <tr>\n",
       "      <th>3</th>\n",
       "      <td>Premises licence</td>\n",
       "      <td>Forbuoys (Fawdon Post Office)</td>\n",
       "      <td>3 Fawdon Park Road</td>\n",
       "      <td>NE3 2PE</td>\n",
       "      <td>True</td>\n",
       "      <td>Su 10:00:00-22:30:00</td>\n",
       "      <td>Surrendered</td>\n",
       "    </tr>\n",
       "    <tr>\n",
       "      <th>4</th>\n",
       "      <td>Premises licence</td>\n",
       "      <td>G K Foodstore</td>\n",
       "      <td>28 - 29 Tyne View,Lemington</td>\n",
       "      <td>NE15 8RA</td>\n",
       "      <td>True</td>\n",
       "      <td>Su 10:00:00-22:30:00</td>\n",
       "      <td>Issued</td>\n",
       "    </tr>\n",
       "  </tbody>\n",
       "</table>\n",
       "</div>"
      ],
      "text/plain": [
       "         ServiceTypeLabel                   PremisesName  \\\n",
       "0  Temporary event notice                       O'Neills   \n",
       "1        Premises licence          Gosforth Bowling Club   \n",
       "2        Premises licence          Richard Granger Wines   \n",
       "3        Premises licence  Forbuoys (Fawdon Post Office)   \n",
       "4        Premises licence                  G K Foodstore   \n",
       "\n",
       "                            LocationText  PostCode  AlcoholSupply  \\\n",
       "0                      38 Neville Street       NaN          False   \n",
       "1                   West Avenue,Gosforth   NE3 4ES           True   \n",
       "2  West Jesmond Station,Lyndhurst Avenue   NE2 3HH           True   \n",
       "3                     3 Fawdon Park Road   NE3 2PE           True   \n",
       "4            28 - 29 Tyne View,Lemington  NE15 8RA           True   \n",
       "\n",
       "           OpeningHours  StatusLabel  \n",
       "0                   NaN    Withdrawn  \n",
       "1  Su 12:00:00-22:30:00       Issued  \n",
       "2  Su 10:00:00-22:30:00       Issued  \n",
       "3  Su 10:00:00-22:30:00  Surrendered  \n",
       "4  Su 10:00:00-22:30:00       Issued  "
      ]
     },
     "execution_count": 7,
     "metadata": {},
     "output_type": "execute_result"
    }
   ],
   "source": [
    "# Display the head\n",
    "df.head()"
   ]
  },
  {
   "cell_type": "code",
   "execution_count": 9,
   "metadata": {},
   "outputs": [
    {
     "data": {
      "text/html": [
       "<div>\n",
       "<style scoped>\n",
       "    .dataframe tbody tr th:only-of-type {\n",
       "        vertical-align: middle;\n",
       "    }\n",
       "\n",
       "    .dataframe tbody tr th {\n",
       "        vertical-align: top;\n",
       "    }\n",
       "\n",
       "    .dataframe thead th {\n",
       "        text-align: right;\n",
       "    }\n",
       "</style>\n",
       "<table border=\"1\" class=\"dataframe\">\n",
       "  <thead>\n",
       "    <tr style=\"text-align: right;\">\n",
       "      <th></th>\n",
       "      <th>ServiceTypeLabel</th>\n",
       "      <th>PremisesName</th>\n",
       "      <th>LocationText</th>\n",
       "      <th>PostCode</th>\n",
       "      <th>AlcoholSupply</th>\n",
       "      <th>OpeningHours</th>\n",
       "      <th>StatusLabel</th>\n",
       "    </tr>\n",
       "  </thead>\n",
       "  <tbody>\n",
       "    <tr>\n",
       "      <th>795</th>\n",
       "      <td>Temporary event notice</td>\n",
       "      <td>NE6 Suite</td>\n",
       "      <td>123 Scrogg Road,Newcastle upon Tyne</td>\n",
       "      <td>NaN</td>\n",
       "      <td>True</td>\n",
       "      <td>NaN</td>\n",
       "      <td>Refused</td>\n",
       "    </tr>\n",
       "    <tr>\n",
       "      <th>796</th>\n",
       "      <td>Premises licence</td>\n",
       "      <td>La Vita</td>\n",
       "      <td>208 - 210 Heaton Road,Newcastle upon Tyne</td>\n",
       "      <td>NaN</td>\n",
       "      <td>False</td>\n",
       "      <td>Mo-Sa 11:00:00-23:00:00,Mo-Sa 23:00:00-23:30:0...</td>\n",
       "      <td>Issued</td>\n",
       "    </tr>\n",
       "    <tr>\n",
       "      <th>797</th>\n",
       "      <td>Premises licence</td>\n",
       "      <td>Supernatural Restaurant</td>\n",
       "      <td>15-17 Princess Square,Newcastle upon Tyne</td>\n",
       "      <td>NaN</td>\n",
       "      <td>True</td>\n",
       "      <td>Mo-Su 11:00:00-23:00:00</td>\n",
       "      <td>Issued</td>\n",
       "    </tr>\n",
       "    <tr>\n",
       "      <th>798</th>\n",
       "      <td>Premises licence</td>\n",
       "      <td>Alphabetti Theatre</td>\n",
       "      <td>The Basement,New Bridge Street Project Space,1...</td>\n",
       "      <td>NaN</td>\n",
       "      <td>True</td>\n",
       "      <td>Mo-Su 11:00:00-23:00:00</td>\n",
       "      <td>Approved</td>\n",
       "    </tr>\n",
       "    <tr>\n",
       "      <th>799</th>\n",
       "      <td>Temporary event notice</td>\n",
       "      <td>Players Bar</td>\n",
       "      <td>Unit 2,The Gate,Newgate Street,Newcastle upon ...</td>\n",
       "      <td>NaN</td>\n",
       "      <td>True</td>\n",
       "      <td>NaN</td>\n",
       "      <td>Refused</td>\n",
       "    </tr>\n",
       "  </tbody>\n",
       "</table>\n",
       "</div>"
      ],
      "text/plain": [
       "           ServiceTypeLabel             PremisesName  \\\n",
       "795  Temporary event notice                NE6 Suite   \n",
       "796        Premises licence                  La Vita   \n",
       "797        Premises licence  Supernatural Restaurant   \n",
       "798        Premises licence       Alphabetti Theatre   \n",
       "799  Temporary event notice              Players Bar   \n",
       "\n",
       "                                          LocationText PostCode  \\\n",
       "795                123 Scrogg Road,Newcastle upon Tyne      NaN   \n",
       "796          208 - 210 Heaton Road,Newcastle upon Tyne      NaN   \n",
       "797          15-17 Princess Square,Newcastle upon Tyne      NaN   \n",
       "798  The Basement,New Bridge Street Project Space,1...      NaN   \n",
       "799  Unit 2,The Gate,Newgate Street,Newcastle upon ...      NaN   \n",
       "\n",
       "     AlcoholSupply                                       OpeningHours  \\\n",
       "795           True                                                NaN   \n",
       "796          False  Mo-Sa 11:00:00-23:00:00,Mo-Sa 23:00:00-23:30:0...   \n",
       "797           True                            Mo-Su 11:00:00-23:00:00   \n",
       "798           True                            Mo-Su 11:00:00-23:00:00   \n",
       "799           True                                                NaN   \n",
       "\n",
       "    StatusLabel  \n",
       "795     Refused  \n",
       "796      Issued  \n",
       "797      Issued  \n",
       "798    Approved  \n",
       "799     Refused  "
      ]
     },
     "execution_count": 9,
     "metadata": {},
     "output_type": "execute_result"
    }
   ],
   "source": [
    "# Display the tail\n",
    "df.tail()"
   ]
  },
  {
   "cell_type": "code",
   "execution_count": 8,
   "metadata": {},
   "outputs": [
    {
     "data": {
      "text/plain": [
       "dict_items([('Temporary event notice', 205), ('Premises licence', 569), ('Club premises certificate', 26)])"
      ]
     },
     "execution_count": 8,
     "metadata": {},
     "output_type": "execute_result"
    }
   ],
   "source": [
    "# Create a dictionary where the key of each entry is 'ServiceTypeLabel' (licence \n",
    "# type) and the value is a count of the premises in that category.\n",
    "\n",
    "licence_counts = defaultdict(int) # Create empty dict\n",
    "# A for loop to iterate over all the rows in df looking at the contents of the \n",
    "# 'ServiceTypeLabel' column. \n",
    "for licence in df.loc[:,'ServiceTypeLabel']:\n",
    "  licence_counts[licence] +=1\n",
    "\n",
    "# Display the dictionary \n",
    "licence_counts.items()"
   ]
  },
  {
   "cell_type": "code",
   "execution_count": 9,
   "metadata": {},
   "outputs": [
    {
     "name": "stdout",
     "output_type": "stream",
     "text": [
      "List of licence types:  ['Temporary event notice', 'Premises licence', 'Club premises certificate']\n",
      "List of premises counts: [205, 569, 26]\n"
     ]
    }
   ],
   "source": [
    "licence_type = list(licence_counts.keys())\n",
    "num = list(licence_counts.values())     \n",
    "\n",
    "print (\"List of licence types: \", licence_type)\n",
    "print (\"List of premises counts:\",num)"
   ]
  },
  {
   "cell_type": "code",
   "execution_count": 10,
   "metadata": {},
   "outputs": [
    {
     "data": {
      "image/png": "[encoded data removed]",
      "text/plain": [
       "<Figure size 432x288 with 1 Axes>"
      ]
     },
     "metadata": {
      "needs_background": "light"
     },
     "output_type": "display_data"
    }
   ],
   "source": [
    "plt.bar(licence_type, num)\n",
    "plt.show()"
   ]
  },
  {
   "cell_type": "code",
   "execution_count": 11,
   "metadata": {},
   "outputs": [
    {
     "name": "stdout",
     "output_type": "stream",
     "text": [
      "['Club premises certificate', 'Premises licence', 'Temporary event notice']\n",
      "[26, 569, 205]\n"
     ]
    }
   ],
   "source": [
    "# Create a sorted list from the dictionary.\n",
    "sorted_list = sorted(licence_counts.items())\n",
    "licence_type=[licence[0] for licence in sorted_list] # create a list of all the first elements\n",
    "num=[licence[1] for licence in sorted_list] # create a list of all the second elements\n",
    "print(licence_type)\n",
    "print(num)\n"
   ]
  },
  {
   "cell_type": "code",
   "execution_count": 12,
   "metadata": {},
   "outputs": [
    {
     "data": {
      "image/png": "[encoded data removed]",
      "text/plain": [
       "<Figure size 432x288 with 1 Axes>"
      ]
     },
     "metadata": {
      "needs_background": "light"
     },
     "output_type": "display_data"
    }
   ],
   "source": [
    "# Plot it\n",
    "plt.xlabel(\"Licence Type\")\n",
    "plt.ylabel(\"No. of premises\")\n",
    "plt.title(\"Premises by licence type\")\n",
    "plt.bar(licence_type, num)\n",
    "plt.show()"
   ]
  },
  {
   "cell_type": "code",
   "execution_count": 28,
   "metadata": {},
   "outputs": [
    {
     "name": "stdout",
     "output_type": "stream",
     "text": [
      "[('Club premises certificate', 26), ('Premises licence', 569), ('Temporary event notice', 205)]\n",
      "[('Premises licence', 569), ('Temporary event notice', 205), ('Club premises certificate', 26)]\n"
     ]
    }
   ],
   "source": [
    "import operator\n",
    "sorted_by_type = sorted(licence_counts.items(), key=operator.itemgetter(0))#ascending order\n",
    "sorted_by_value = sorted(licence_counts.items(), key=operator.itemgetter(1),reverse=True)#descending order\n",
    "\n",
    "print(sorted_by_type)\n",
    "print(sorted_by_value)"
   ]
  },
  {
   "cell_type": "code",
   "execution_count": 21,
   "metadata": {},
   "outputs": [
    {
     "data": {
      "image/png": "[encoded data removed]",
      "text/plain": [
       "<Figure size 432x288 with 1 Axes>"
      ]
     },
     "metadata": {
      "needs_background": "light"
     },
     "output_type": "display_data"
    }
   ],
   "source": [
    "#Shortcuts: Let's use our new sorted dictionaries directly in our plot function. First, sorted by type:\n",
    "plt.bar([licence[0] for licence in sorted_by_type],[licence[1] for licence in sorted_by_type])\n",
    "plt.show()"
   ]
  },
  {
   "cell_type": "code",
   "execution_count": 27,
   "metadata": {},
   "outputs": [
    {
     "data": {
      "image/png": "[encoded data removed]",
      "text/plain": [
       "<Figure size 432x288 with 1 Axes>"
      ]
     },
     "metadata": {
      "needs_background": "light"
     },
     "output_type": "display_data"
    }
   ],
   "source": [
    "#sort by count\n",
    "#descending order chart check with cell import operator \n",
    "plt.bar([licence[0] for licence in sorted_by_value],[licence[1] for licence in sorted_by_value])\n",
    "plt.show()"
   ]
  },
  {
   "cell_type": "code",
   "execution_count": 29,
   "metadata": {},
   "outputs": [
    {
     "data": {
      "text/plain": [
       "dict_items([('Withdrawn', 180), ('Issued', 361), ('Surrendered', 144), ('Revoked', 3), ('Refused', 92), ('Suspended', 18), ('Approved', 2)])"
      ]
     },
     "execution_count": 29,
     "metadata": {},
     "output_type": "execute_result"
    }
   ],
   "source": [
    "status_counts = defaultdict(int) # Create empty dict\n",
    "# A for loop to iterate over all the rows in df looking at the contents of the \n",
    "# 'StatusLabel' column. \n",
    "for status in df.loc[:,'StatusLabel']:\n",
    "  status_counts[status] +=1\n",
    "\n",
    "# Display the dictionary \n",
    "status_counts.items()"
   ]
  },
  {
   "cell_type": "code",
   "execution_count": 30,
   "metadata": {},
   "outputs": [
    {
     "data": {
      "image/png": "[encoded data removed]",
      "text/plain": [
       "<Figure size 432x288 with 1 Axes>"
      ]
     },
     "metadata": {
      "needs_background": "light"
     },
     "output_type": "display_data"
    }
   ],
   "source": [
    "plt.bar(list(status_counts.keys()),list(status_counts.values()))\n",
    "plt.show()"
   ]
  }
 ],
 "metadata": {
  "kernelspec": {
   "display_name": "Python 3.9.7 ('base')",
   "language": "python",
   "name": "python3"
  },
  "language_info": {
   "codemirror_mode": {
    "name": "ipython",
    "version": 3
   },
   "file_extension": ".py",
   "mimetype": "text/x-python",
   "name": "python",
   "nbconvert_exporter": "python",
   "pygments_lexer": "ipython3",
   "version": "3.9.7"
  },
  "orig_nbformat": 4,
  "vscode": {
   "interpreter": {
    "hash": "1aef0a2758a8c9f5747e4b1e4b5e16b7002f3795f603bca30e6d263bc6b92944"
   }
  }
 },
 "nbformat": 4,
 "nbformat_minor": 2
}
