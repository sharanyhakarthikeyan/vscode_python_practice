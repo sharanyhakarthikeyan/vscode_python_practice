{
 "cells": [
  {
   "cell_type": "code",
   "execution_count": 6,
   "metadata": {},
   "outputs": [],
   "source": [
    "# Load the Pandas library and give it the short name 'pd'\n",
    "# Load the defaultdict object from the collections library\n",
    "# Load pyplot frm the matplotlib libaray and give it the short name 'plt'\n",
    "# Load everything from the plotnine liibrary\n",
    "\n",
    "import pandas as pd  \n",
    "from collections import defaultdict \n",
    "from matplotlib import pyplot as plt\n",
    "#from plotnine import *"
   ]
  },
  {
   "cell_type": "code",
   "execution_count": 9,
   "metadata": {},
   "outputs": [],
   "source": [
    "# Load the doors.xlsx spreadsheet into a Pandas dataframe\n",
    "df = pd.read_excel('Doors.xlsx')"
   ]
  },
  {
   "cell_type": "code",
   "execution_count": 10,
   "metadata": {},
   "outputs": [
    {
     "name": "stdout",
     "output_type": "stream",
     "text": [
      "(78, 12)\n"
     ]
    }
   ],
   "source": [
    "# Display the dataframe's shape\n",
    "print (df.shape)"
   ]
  },
  {
   "cell_type": "code",
   "execution_count": 11,
   "metadata": {},
   "outputs": [
    {
     "name": "stdout",
     "output_type": "stream",
     "text": [
      "There are 78 doors in the building.\n"
     ]
    }
   ],
   "source": [
    "# Our first report\n",
    "report = \"There are \" + str(df.shape[0]) + \" doors in the building.\"\n",
    "print (report)"
   ]
  },
  {
   "cell_type": "code",
   "execution_count": 12,
   "metadata": {},
   "outputs": [
    {
     "data": {
      "text/html": [
       "<div>\n",
       "<style scoped>\n",
       "    .dataframe tbody tr th:only-of-type {\n",
       "        vertical-align: middle;\n",
       "    }\n",
       "\n",
       "    .dataframe tbody tr th {\n",
       "        vertical-align: top;\n",
       "    }\n",
       "\n",
       "    .dataframe thead th {\n",
       "        text-align: right;\n",
       "    }\n",
       "</style>\n",
       "<table border=\"1\" class=\"dataframe\">\n",
       "  <thead>\n",
       "    <tr style=\"text-align: right;\">\n",
       "      <th></th>\n",
       "      <th>EntityId</th>\n",
       "      <th>FlexSortOrder</th>\n",
       "      <th>Mark</th>\n",
       "      <th>Width</th>\n",
       "      <th>Height</th>\n",
       "    </tr>\n",
       "  </thead>\n",
       "  <tbody>\n",
       "    <tr>\n",
       "      <th>count</th>\n",
       "      <td>7.800000e+01</td>\n",
       "      <td>78.000000</td>\n",
       "      <td>61.000000</td>\n",
       "      <td>54.000000</td>\n",
       "      <td>54.0</td>\n",
       "    </tr>\n",
       "    <tr>\n",
       "      <th>mean</th>\n",
       "      <td>1.405247e+05</td>\n",
       "      <td>40.500000</td>\n",
       "      <td>65.049180</td>\n",
       "      <td>907.111111</td>\n",
       "      <td>2088.0</td>\n",
       "    </tr>\n",
       "    <tr>\n",
       "      <th>std</th>\n",
       "      <td>1.418252e+05</td>\n",
       "      <td>22.660538</td>\n",
       "      <td>27.441104</td>\n",
       "      <td>273.155334</td>\n",
       "      <td>0.0</td>\n",
       "    </tr>\n",
       "    <tr>\n",
       "      <th>min</th>\n",
       "      <td>2.214200e+04</td>\n",
       "      <td>2.000000</td>\n",
       "      <td>25.000000</td>\n",
       "      <td>676.000000</td>\n",
       "      <td>2088.0</td>\n",
       "    </tr>\n",
       "    <tr>\n",
       "      <th>25%</th>\n",
       "      <td>8.367950e+04</td>\n",
       "      <td>21.250000</td>\n",
       "      <td>40.000000</td>\n",
       "      <td>786.000000</td>\n",
       "      <td>2088.0</td>\n",
       "    </tr>\n",
       "    <tr>\n",
       "      <th>50%</th>\n",
       "      <td>1.342465e+05</td>\n",
       "      <td>40.500000</td>\n",
       "      <td>59.000000</td>\n",
       "      <td>786.000000</td>\n",
       "      <td>2088.0</td>\n",
       "    </tr>\n",
       "    <tr>\n",
       "      <th>75%</th>\n",
       "      <td>1.636738e+05</td>\n",
       "      <td>59.750000</td>\n",
       "      <td>89.000000</td>\n",
       "      <td>876.000000</td>\n",
       "      <td>2088.0</td>\n",
       "    </tr>\n",
       "    <tr>\n",
       "      <th>max</th>\n",
       "      <td>1.001728e+06</td>\n",
       "      <td>79.000000</td>\n",
       "      <td>112.000000</td>\n",
       "      <td>2376.000000</td>\n",
       "      <td>2088.0</td>\n",
       "    </tr>\n",
       "  </tbody>\n",
       "</table>\n",
       "</div>"
      ],
      "text/plain": [
       "           EntityId  FlexSortOrder        Mark        Width  Height\n",
       "count  7.800000e+01      78.000000   61.000000    54.000000    54.0\n",
       "mean   1.405247e+05      40.500000   65.049180   907.111111  2088.0\n",
       "std    1.418252e+05      22.660538   27.441104   273.155334     0.0\n",
       "min    2.214200e+04       2.000000   25.000000   676.000000  2088.0\n",
       "25%    8.367950e+04      21.250000   40.000000   786.000000  2088.0\n",
       "50%    1.342465e+05      40.500000   59.000000   786.000000  2088.0\n",
       "75%    1.636738e+05      59.750000   89.000000   876.000000  2088.0\n",
       "max    1.001728e+06      79.000000  112.000000  2376.000000  2088.0"
      ]
     },
     "execution_count": 12,
     "metadata": {},
     "output_type": "execute_result"
    }
   ],
   "source": [
    "#Descriptive statistics\n",
    "#Below we will use some elementary dataframe functions that describe the contents of the dataframe.\n",
    "df.describe()"
   ]
  },
  {
   "cell_type": "code",
   "execution_count": 13,
   "metadata": {},
   "outputs": [
    {
     "data": {
      "text/html": [
       "<div>\n",
       "<style scoped>\n",
       "    .dataframe tbody tr th:only-of-type {\n",
       "        vertical-align: middle;\n",
       "    }\n",
       "\n",
       "    .dataframe tbody tr th {\n",
       "        vertical-align: top;\n",
       "    }\n",
       "\n",
       "    .dataframe thead th {\n",
       "        text-align: right;\n",
       "    }\n",
       "</style>\n",
       "<table border=\"1\" class=\"dataframe\">\n",
       "  <thead>\n",
       "    <tr style=\"text-align: right;\">\n",
       "      <th></th>\n",
       "      <th>EntityId</th>\n",
       "      <th>FlexSortOrder</th>\n",
       "      <th>Mark</th>\n",
       "      <th>Level</th>\n",
       "      <th>Type</th>\n",
       "      <th>Type Mark</th>\n",
       "      <th>Manufacturer</th>\n",
       "      <th>Width</th>\n",
       "      <th>Height</th>\n",
       "      <th>Material main</th>\n",
       "      <th>From Room: Name</th>\n",
       "      <th>To Room: Name</th>\n",
       "    </tr>\n",
       "  </thead>\n",
       "  <tbody>\n",
       "    <tr>\n",
       "      <th>count</th>\n",
       "      <td>7.800000e+01</td>\n",
       "      <td>78.000000</td>\n",
       "      <td>61.000000</td>\n",
       "      <td>78</td>\n",
       "      <td>78</td>\n",
       "      <td>78</td>\n",
       "      <td>54</td>\n",
       "      <td>54.000000</td>\n",
       "      <td>54.0</td>\n",
       "      <td>52</td>\n",
       "      <td>23</td>\n",
       "      <td>26</td>\n",
       "    </tr>\n",
       "    <tr>\n",
       "      <th>unique</th>\n",
       "      <td>NaN</td>\n",
       "      <td>NaN</td>\n",
       "      <td>NaN</td>\n",
       "      <td>3</td>\n",
       "      <td>8</td>\n",
       "      <td>8</td>\n",
       "      <td>1</td>\n",
       "      <td>NaN</td>\n",
       "      <td>NaN</td>\n",
       "      <td>1</td>\n",
       "      <td>7</td>\n",
       "      <td>15</td>\n",
       "    </tr>\n",
       "    <tr>\n",
       "      <th>top</th>\n",
       "      <td>NaN</td>\n",
       "      <td>NaN</td>\n",
       "      <td>NaN</td>\n",
       "      <td>01 First Floor</td>\n",
       "      <td>810 x 2100 mm</td>\n",
       "      <td>D48</td>\n",
       "      <td>JELD-WEN</td>\n",
       "      <td>NaN</td>\n",
       "      <td>NaN</td>\n",
       "      <td>Wood</td>\n",
       "      <td>Corridor</td>\n",
       "      <td>Office</td>\n",
       "    </tr>\n",
       "    <tr>\n",
       "      <th>freq</th>\n",
       "      <td>NaN</td>\n",
       "      <td>NaN</td>\n",
       "      <td>NaN</td>\n",
       "      <td>34</td>\n",
       "      <td>27</td>\n",
       "      <td>27</td>\n",
       "      <td>54</td>\n",
       "      <td>NaN</td>\n",
       "      <td>NaN</td>\n",
       "      <td>52</td>\n",
       "      <td>5</td>\n",
       "      <td>5</td>\n",
       "    </tr>\n",
       "    <tr>\n",
       "      <th>mean</th>\n",
       "      <td>1.405247e+05</td>\n",
       "      <td>40.500000</td>\n",
       "      <td>65.049180</td>\n",
       "      <td>NaN</td>\n",
       "      <td>NaN</td>\n",
       "      <td>NaN</td>\n",
       "      <td>NaN</td>\n",
       "      <td>907.111111</td>\n",
       "      <td>2088.0</td>\n",
       "      <td>NaN</td>\n",
       "      <td>NaN</td>\n",
       "      <td>NaN</td>\n",
       "    </tr>\n",
       "    <tr>\n",
       "      <th>std</th>\n",
       "      <td>1.418252e+05</td>\n",
       "      <td>22.660538</td>\n",
       "      <td>27.441104</td>\n",
       "      <td>NaN</td>\n",
       "      <td>NaN</td>\n",
       "      <td>NaN</td>\n",
       "      <td>NaN</td>\n",
       "      <td>273.155334</td>\n",
       "      <td>0.0</td>\n",
       "      <td>NaN</td>\n",
       "      <td>NaN</td>\n",
       "      <td>NaN</td>\n",
       "    </tr>\n",
       "    <tr>\n",
       "      <th>min</th>\n",
       "      <td>2.214200e+04</td>\n",
       "      <td>2.000000</td>\n",
       "      <td>25.000000</td>\n",
       "      <td>NaN</td>\n",
       "      <td>NaN</td>\n",
       "      <td>NaN</td>\n",
       "      <td>NaN</td>\n",
       "      <td>676.000000</td>\n",
       "      <td>2088.0</td>\n",
       "      <td>NaN</td>\n",
       "      <td>NaN</td>\n",
       "      <td>NaN</td>\n",
       "    </tr>\n",
       "    <tr>\n",
       "      <th>25%</th>\n",
       "      <td>8.367950e+04</td>\n",
       "      <td>21.250000</td>\n",
       "      <td>40.000000</td>\n",
       "      <td>NaN</td>\n",
       "      <td>NaN</td>\n",
       "      <td>NaN</td>\n",
       "      <td>NaN</td>\n",
       "      <td>786.000000</td>\n",
       "      <td>2088.0</td>\n",
       "      <td>NaN</td>\n",
       "      <td>NaN</td>\n",
       "      <td>NaN</td>\n",
       "    </tr>\n",
       "    <tr>\n",
       "      <th>50%</th>\n",
       "      <td>1.342465e+05</td>\n",
       "      <td>40.500000</td>\n",
       "      <td>59.000000</td>\n",
       "      <td>NaN</td>\n",
       "      <td>NaN</td>\n",
       "      <td>NaN</td>\n",
       "      <td>NaN</td>\n",
       "      <td>786.000000</td>\n",
       "      <td>2088.0</td>\n",
       "      <td>NaN</td>\n",
       "      <td>NaN</td>\n",
       "      <td>NaN</td>\n",
       "    </tr>\n",
       "    <tr>\n",
       "      <th>75%</th>\n",
       "      <td>1.636738e+05</td>\n",
       "      <td>59.750000</td>\n",
       "      <td>89.000000</td>\n",
       "      <td>NaN</td>\n",
       "      <td>NaN</td>\n",
       "      <td>NaN</td>\n",
       "      <td>NaN</td>\n",
       "      <td>876.000000</td>\n",
       "      <td>2088.0</td>\n",
       "      <td>NaN</td>\n",
       "      <td>NaN</td>\n",
       "      <td>NaN</td>\n",
       "    </tr>\n",
       "    <tr>\n",
       "      <th>max</th>\n",
       "      <td>1.001728e+06</td>\n",
       "      <td>79.000000</td>\n",
       "      <td>112.000000</td>\n",
       "      <td>NaN</td>\n",
       "      <td>NaN</td>\n",
       "      <td>NaN</td>\n",
       "      <td>NaN</td>\n",
       "      <td>2376.000000</td>\n",
       "      <td>2088.0</td>\n",
       "      <td>NaN</td>\n",
       "      <td>NaN</td>\n",
       "      <td>NaN</td>\n",
       "    </tr>\n",
       "  </tbody>\n",
       "</table>\n",
       "</div>"
      ],
      "text/plain": [
       "            EntityId  FlexSortOrder        Mark           Level  \\\n",
       "count   7.800000e+01      78.000000   61.000000              78   \n",
       "unique           NaN            NaN         NaN               3   \n",
       "top              NaN            NaN         NaN  01 First Floor   \n",
       "freq             NaN            NaN         NaN              34   \n",
       "mean    1.405247e+05      40.500000   65.049180             NaN   \n",
       "std     1.418252e+05      22.660538   27.441104             NaN   \n",
       "min     2.214200e+04       2.000000   25.000000             NaN   \n",
       "25%     8.367950e+04      21.250000   40.000000             NaN   \n",
       "50%     1.342465e+05      40.500000   59.000000             NaN   \n",
       "75%     1.636738e+05      59.750000   89.000000             NaN   \n",
       "max     1.001728e+06      79.000000  112.000000             NaN   \n",
       "\n",
       "                 Type Type Mark Manufacturer        Width  Height  \\\n",
       "count              78        78           54    54.000000    54.0   \n",
       "unique              8         8            1          NaN     NaN   \n",
       "top     810 x 2100 mm       D48     JELD-WEN          NaN     NaN   \n",
       "freq               27        27           54          NaN     NaN   \n",
       "mean              NaN       NaN          NaN   907.111111  2088.0   \n",
       "std               NaN       NaN          NaN   273.155334     0.0   \n",
       "min               NaN       NaN          NaN   676.000000  2088.0   \n",
       "25%               NaN       NaN          NaN   786.000000  2088.0   \n",
       "50%               NaN       NaN          NaN   786.000000  2088.0   \n",
       "75%               NaN       NaN          NaN   876.000000  2088.0   \n",
       "max               NaN       NaN          NaN  2376.000000  2088.0   \n",
       "\n",
       "       Material main From Room: Name To Room: Name  \n",
       "count             52              23            26  \n",
       "unique             1               7            15  \n",
       "top             Wood        Corridor        Office  \n",
       "freq              52               5             5  \n",
       "mean             NaN             NaN           NaN  \n",
       "std              NaN             NaN           NaN  \n",
       "min              NaN             NaN           NaN  \n",
       "25%              NaN             NaN           NaN  \n",
       "50%              NaN             NaN           NaN  \n",
       "75%              NaN             NaN           NaN  \n",
       "max              NaN             NaN           NaN  "
      ]
     },
     "execution_count": 13,
     "metadata": {},
     "output_type": "execute_result"
    }
   ],
   "source": [
    "df.describe(include='all')"
   ]
  },
  {
   "cell_type": "code",
   "execution_count": 14,
   "metadata": {},
   "outputs": [
    {
     "data": {
      "text/html": [
       "<div>\n",
       "<style scoped>\n",
       "    .dataframe tbody tr th:only-of-type {\n",
       "        vertical-align: middle;\n",
       "    }\n",
       "\n",
       "    .dataframe tbody tr th {\n",
       "        vertical-align: top;\n",
       "    }\n",
       "\n",
       "    .dataframe thead th {\n",
       "        text-align: right;\n",
       "    }\n",
       "</style>\n",
       "<table border=\"1\" class=\"dataframe\">\n",
       "  <thead>\n",
       "    <tr style=\"text-align: right;\">\n",
       "      <th></th>\n",
       "      <th>EntityId</th>\n",
       "      <th>FlexSortOrder</th>\n",
       "      <th>Mark</th>\n",
       "      <th>Level</th>\n",
       "      <th>Type</th>\n",
       "      <th>Type Mark</th>\n",
       "      <th>Manufacturer</th>\n",
       "      <th>Width</th>\n",
       "      <th>Height</th>\n",
       "      <th>Material main</th>\n",
       "      <th>From Room: Name</th>\n",
       "      <th>To Room: Name</th>\n",
       "    </tr>\n",
       "  </thead>\n",
       "  <tbody>\n",
       "    <tr>\n",
       "      <th>0</th>\n",
       "      <td>22142</td>\n",
       "      <td>2</td>\n",
       "      <td>25.0</td>\n",
       "      <td>00 Ground Level</td>\n",
       "      <td>810 x 2100 mm</td>\n",
       "      <td>D48</td>\n",
       "      <td>JELD-WEN</td>\n",
       "      <td>786.0</td>\n",
       "      <td>2088.0</td>\n",
       "      <td>Wood</td>\n",
       "      <td>NaN</td>\n",
       "      <td>NaN</td>\n",
       "    </tr>\n",
       "    <tr>\n",
       "      <th>1</th>\n",
       "      <td>22157</td>\n",
       "      <td>3</td>\n",
       "      <td>26.0</td>\n",
       "      <td>00 Ground Level</td>\n",
       "      <td>810 x 2100 mm</td>\n",
       "      <td>D48</td>\n",
       "      <td>JELD-WEN</td>\n",
       "      <td>786.0</td>\n",
       "      <td>2088.0</td>\n",
       "      <td>Wood</td>\n",
       "      <td>NaN</td>\n",
       "      <td>NaN</td>\n",
       "    </tr>\n",
       "    <tr>\n",
       "      <th>2</th>\n",
       "      <td>22171</td>\n",
       "      <td>4</td>\n",
       "      <td>27.0</td>\n",
       "      <td>00 Ground Level</td>\n",
       "      <td>810 x 2100 mm</td>\n",
       "      <td>D48</td>\n",
       "      <td>JELD-WEN</td>\n",
       "      <td>786.0</td>\n",
       "      <td>2088.0</td>\n",
       "      <td>Wood</td>\n",
       "      <td>NaN</td>\n",
       "      <td>NaN</td>\n",
       "    </tr>\n",
       "    <tr>\n",
       "      <th>3</th>\n",
       "      <td>27724</td>\n",
       "      <td>5</td>\n",
       "      <td>28.0</td>\n",
       "      <td>00 Ground Level</td>\n",
       "      <td>810 x 2100 mm</td>\n",
       "      <td>D48</td>\n",
       "      <td>JELD-WEN</td>\n",
       "      <td>786.0</td>\n",
       "      <td>2088.0</td>\n",
       "      <td>Wood</td>\n",
       "      <td>NaN</td>\n",
       "      <td>NaN</td>\n",
       "    </tr>\n",
       "    <tr>\n",
       "      <th>4</th>\n",
       "      <td>27739</td>\n",
       "      <td>6</td>\n",
       "      <td>29.0</td>\n",
       "      <td>00 Ground Level</td>\n",
       "      <td>810 x 2100 mm</td>\n",
       "      <td>D48</td>\n",
       "      <td>JELD-WEN</td>\n",
       "      <td>786.0</td>\n",
       "      <td>2088.0</td>\n",
       "      <td>Wood</td>\n",
       "      <td>NaN</td>\n",
       "      <td>NaN</td>\n",
       "    </tr>\n",
       "  </tbody>\n",
       "</table>\n",
       "</div>"
      ],
      "text/plain": [
       "   EntityId  FlexSortOrder  Mark            Level           Type Type Mark  \\\n",
       "0     22142              2  25.0  00 Ground Level  810 x 2100 mm       D48   \n",
       "1     22157              3  26.0  00 Ground Level  810 x 2100 mm       D48   \n",
       "2     22171              4  27.0  00 Ground Level  810 x 2100 mm       D48   \n",
       "3     27724              5  28.0  00 Ground Level  810 x 2100 mm       D48   \n",
       "4     27739              6  29.0  00 Ground Level  810 x 2100 mm       D48   \n",
       "\n",
       "  Manufacturer  Width  Height Material main From Room: Name To Room: Name  \n",
       "0     JELD-WEN  786.0  2088.0          Wood             NaN           NaN  \n",
       "1     JELD-WEN  786.0  2088.0          Wood             NaN           NaN  \n",
       "2     JELD-WEN  786.0  2088.0          Wood             NaN           NaN  \n",
       "3     JELD-WEN  786.0  2088.0          Wood             NaN           NaN  \n",
       "4     JELD-WEN  786.0  2088.0          Wood             NaN           NaN  "
      ]
     },
     "execution_count": 14,
     "metadata": {},
     "output_type": "execute_result"
    }
   ],
   "source": [
    "# Display the head\n",
    "df.head()"
   ]
  },
  {
   "cell_type": "code",
   "execution_count": 15,
   "metadata": {},
   "outputs": [
    {
     "data": {
      "text/html": [
       "<div>\n",
       "<style scoped>\n",
       "    .dataframe tbody tr th:only-of-type {\n",
       "        vertical-align: middle;\n",
       "    }\n",
       "\n",
       "    .dataframe tbody tr th {\n",
       "        vertical-align: top;\n",
       "    }\n",
       "\n",
       "    .dataframe thead th {\n",
       "        text-align: right;\n",
       "    }\n",
       "</style>\n",
       "<table border=\"1\" class=\"dataframe\">\n",
       "  <thead>\n",
       "    <tr style=\"text-align: right;\">\n",
       "      <th></th>\n",
       "      <th>EntityId</th>\n",
       "      <th>FlexSortOrder</th>\n",
       "      <th>Mark</th>\n",
       "      <th>Level</th>\n",
       "      <th>Type</th>\n",
       "      <th>Type Mark</th>\n",
       "      <th>Manufacturer</th>\n",
       "      <th>Width</th>\n",
       "      <th>Height</th>\n",
       "      <th>Material main</th>\n",
       "      <th>From Room: Name</th>\n",
       "      <th>To Room: Name</th>\n",
       "    </tr>\n",
       "  </thead>\n",
       "  <tbody>\n",
       "    <tr>\n",
       "      <th>73</th>\n",
       "      <td>182920</td>\n",
       "      <td>71</td>\n",
       "      <td>NaN</td>\n",
       "      <td>00 Ground Level</td>\n",
       "      <td>M_Door-Curtain-Wall-Double-Glass</td>\n",
       "      <td>D13</td>\n",
       "      <td>NaN</td>\n",
       "      <td>NaN</td>\n",
       "      <td>NaN</td>\n",
       "      <td>NaN</td>\n",
       "      <td>NaN</td>\n",
       "      <td>NaN</td>\n",
       "    </tr>\n",
       "    <tr>\n",
       "      <th>74</th>\n",
       "      <td>183085</td>\n",
       "      <td>72</td>\n",
       "      <td>101.0</td>\n",
       "      <td>Basement</td>\n",
       "      <td>910 x 2100 mm</td>\n",
       "      <td>D46</td>\n",
       "      <td>JELD-WEN</td>\n",
       "      <td>876.0</td>\n",
       "      <td>2088.0</td>\n",
       "      <td>Wood</td>\n",
       "      <td>NaN</td>\n",
       "      <td>NaN</td>\n",
       "    </tr>\n",
       "    <tr>\n",
       "      <th>75</th>\n",
       "      <td>189002</td>\n",
       "      <td>73</td>\n",
       "      <td>102.0</td>\n",
       "      <td>00 Ground Level</td>\n",
       "      <td>Type 1</td>\n",
       "      <td>D11</td>\n",
       "      <td>NaN</td>\n",
       "      <td>NaN</td>\n",
       "      <td>NaN</td>\n",
       "      <td>NaN</td>\n",
       "      <td>NaN</td>\n",
       "      <td>NaN</td>\n",
       "    </tr>\n",
       "    <tr>\n",
       "      <th>76</th>\n",
       "      <td>895312</td>\n",
       "      <td>78</td>\n",
       "      <td>111.0</td>\n",
       "      <td>00 Ground Level</td>\n",
       "      <td>Type 1</td>\n",
       "      <td>D11</td>\n",
       "      <td>NaN</td>\n",
       "      <td>NaN</td>\n",
       "      <td>NaN</td>\n",
       "      <td>NaN</td>\n",
       "      <td>NaN</td>\n",
       "      <td>NaN</td>\n",
       "    </tr>\n",
       "    <tr>\n",
       "      <th>77</th>\n",
       "      <td>1001728</td>\n",
       "      <td>79</td>\n",
       "      <td>112.0</td>\n",
       "      <td>01 First Floor</td>\n",
       "      <td>810 x 2100 mm</td>\n",
       "      <td>D48</td>\n",
       "      <td>JELD-WEN</td>\n",
       "      <td>786.0</td>\n",
       "      <td>2088.0</td>\n",
       "      <td>Wood</td>\n",
       "      <td>Lobby</td>\n",
       "      <td>Toilet</td>\n",
       "    </tr>\n",
       "  </tbody>\n",
       "</table>\n",
       "</div>"
      ],
      "text/plain": [
       "    EntityId  FlexSortOrder   Mark            Level  \\\n",
       "73    182920             71    NaN  00 Ground Level   \n",
       "74    183085             72  101.0         Basement   \n",
       "75    189002             73  102.0  00 Ground Level   \n",
       "76    895312             78  111.0  00 Ground Level   \n",
       "77   1001728             79  112.0   01 First Floor   \n",
       "\n",
       "                                Type Type Mark Manufacturer  Width  Height  \\\n",
       "73  M_Door-Curtain-Wall-Double-Glass       D13          NaN    NaN     NaN   \n",
       "74                     910 x 2100 mm       D46     JELD-WEN  876.0  2088.0   \n",
       "75                            Type 1       D11          NaN    NaN     NaN   \n",
       "76                            Type 1       D11          NaN    NaN     NaN   \n",
       "77                     810 x 2100 mm       D48     JELD-WEN  786.0  2088.0   \n",
       "\n",
       "   Material main From Room: Name To Room: Name  \n",
       "73           NaN             NaN           NaN  \n",
       "74          Wood             NaN           NaN  \n",
       "75           NaN             NaN           NaN  \n",
       "76           NaN             NaN           NaN  \n",
       "77          Wood           Lobby        Toilet  "
      ]
     },
     "execution_count": 15,
     "metadata": {},
     "output_type": "execute_result"
    }
   ],
   "source": [
    "# Display the head\n",
    "df.tail()"
   ]
  },
  {
   "cell_type": "code",
   "execution_count": 20,
   "metadata": {},
   "outputs": [
    {
     "data": {
      "text/plain": [
       "dict_items([('D48', 27), ('D14', 1), ('D46', 16), ('D16', 7), ('D17', 2), ('D47', 1), ('D11', 14), ('D13', 10)])"
      ]
     },
     "execution_count": 20,
     "metadata": {},
     "output_type": "execute_result"
    }
   ],
   "source": [
    "# Create a dictionary where the key of each entry is 'Type Mark' (D11, D17, D47,\n",
    "# etc.) and the value is a count of the doors in that category.\n",
    "door_counts =  defaultdict(int)\n",
    "for door in df.loc[:,\"Type Mark\"]:\n",
    "    door_counts[door] +=1\n",
    "\n",
    "# Display the dictionary \n",
    "door_counts.items()\n",
    "\n"
   ]
  },
  {
   "cell_type": "code",
   "execution_count": 22,
   "metadata": {},
   "outputs": [
    {
     "name": "stdout",
     "output_type": "stream",
     "text": [
      "List of door types ['D48', 'D14', 'D46', 'D16', 'D17', 'D47', 'D11', 'D13']\n",
      "List of door count [27, 1, 16, 7, 2, 1, 14, 10]\n"
     ]
    }
   ],
   "source": [
    "#seperte the key and value in the list.\n",
    "door_type = list(door_counts.keys())\n",
    "quantity = list(door_counts.values())\n",
    "\n",
    "print(\"List of door types\",door_type)\n",
    "print(\"List of door count\",quantity)\n"
   ]
  },
  {
   "cell_type": "code",
   "execution_count": 23,
   "metadata": {},
   "outputs": [
    {
     "data": {
      "image/png": "[encoded data removed]",
      "text/plain": [
       "<Figure size 432x288 with 1 Axes>"
      ]
     },
     "metadata": {
      "needs_background": "light"
     },
     "output_type": "display_data"
    }
   ],
   "source": [
    "plt.bar(door_type, quantity)\n",
    "plt.show()\n"
   ]
  },
  {
   "cell_type": "code",
   "execution_count": 24,
   "metadata": {},
   "outputs": [
    {
     "data": {
      "image/png": "[encoded data removed]",
      "text/plain": [
       "<Figure size 432x288 with 1 Axes>"
      ]
     },
     "metadata": {
      "needs_background": "light"
     },
     "output_type": "display_data"
    }
   ],
   "source": [
    "plt.xlabel(\"Door Type Mark\")\n",
    "plt.ylabel(\"No. of doors\")\n",
    "plt.title(\"Door numbers in the Villa Tugendhat by type\")\n",
    "plt.bar(door_type, quantity)\n",
    "plt.show()"
   ]
  },
  {
   "cell_type": "code",
   "execution_count": 35,
   "metadata": {},
   "outputs": [
    {
     "name": "stdout",
     "output_type": "stream",
     "text": [
      "['D48', 'D47', 'D46', 'D17', 'D16', 'D14', 'D13', 'D11']\n",
      "[27, 1, 16, 2, 7, 1, 10, 14]\n"
     ]
    }
   ],
   "source": [
    "# Create a sorted list from the dictionary.\n",
    "sorted_list = sorted(door_counts.items(),)\n",
    "door_type = [door[0] for door in sorted_list] # create a list of all the first elements\n",
    "quantity = [door[1] for door in sorted_list] # create a list of all the second elements\n",
    "print(door_type)\n",
    "print(quantity)\n",
    "\n"
   ]
  },
  {
   "cell_type": "code",
   "execution_count": 29,
   "metadata": {},
   "outputs": [
    {
     "name": "stdout",
     "output_type": "stream",
     "text": [
      "[('D48', 27), ('D47', 1), ('D46', 16), ('D17', 2), ('D16', 7), ('D14', 1), ('D13', 10), ('D11', 14)]\n",
      "[('D14', 1), ('D47', 1), ('D17', 2), ('D16', 7), ('D13', 10), ('D11', 14), ('D46', 16), ('D48', 27)]\n"
     ]
    }
   ],
   "source": [
    "#Of course, there's always another way to do things. \n",
    "# By importing the operator library we can sort our dictionary this way, \n",
    "# though the result is a list rather than a dictionary This actually makes our plotting even simpler.\n",
    "import operator\n",
    "sort_door_type = sorted(door_counts.items(), key = operator.itemgetter(0), reverse=True)#desending order\n",
    "sort_door_quantity = sorted(door_counts.items(), key =operator.itemgetter(1))#ascending order\n",
    "print(sort_door_type)\n",
    "print(sort_door_quantity)"
   ]
  },
  {
   "cell_type": "code",
   "execution_count": 37,
   "metadata": {},
   "outputs": [
    {
     "data": {
      "text/plain": [
       "<function matplotlib.pyplot.show(close=None, block=None)>"
      ]
     },
     "execution_count": 37,
     "metadata": {},
     "output_type": "execute_result"
    },
    {
     "data": {
      "image/png": "[encoded data removed]",
      "text/plain": [
       "<Figure size 432x288 with 1 Axes>"
      ]
     },
     "metadata": {
      "needs_background": "light"
     },
     "output_type": "display_data"
    }
   ],
   "source": [
    "#Let's use our new sorted dictionaries direclty in our plot function. First, sorted by type\n",
    "plt.bar([door[0] for door in sort_door_type], [door[1] for door in sort_door_type])\n",
    "plt.show"
   ]
  },
  {
   "cell_type": "code",
   "execution_count": 38,
   "metadata": {},
   "outputs": [
    {
     "data": {
      "text/plain": [
       "<function matplotlib.pyplot.show(close=None, block=None)>"
      ]
     },
     "execution_count": 38,
     "metadata": {},
     "output_type": "execute_result"
    },
    {
     "data": {
      "image/png": "[encoded data removed]",
      "text/plain": [
       "<Figure size 432x288 with 1 Axes>"
      ]
     },
     "metadata": {
      "needs_background": "light"
     },
     "output_type": "display_data"
    }
   ],
   "source": [
    "#sorted by quantity\n",
    "plt.bar([door[0] for door in sort_door_quantity], [door[1] for door in sort_door_quantity])\n",
    "plt.show"
   ]
  }
 ],
 "metadata": {
  "kernelspec": {
   "display_name": "Python 3.9.7 ('base')",
   "language": "python",
   "name": "python3"
  },
  "language_info": {
   "codemirror_mode": {
    "name": "ipython",
    "version": 3
   },
   "file_extension": ".py",
   "mimetype": "text/x-python",
   "name": "python",
   "nbconvert_exporter": "python",
   "pygments_lexer": "ipython3",
   "version": "3.9.7"
  },
  "orig_nbformat": 4,
  "vscode": {
   "interpreter": {
    "hash": "1aef0a2758a8c9f5747e4b1e4b5e16b7002f3795f603bca30e6d263bc6b92944"
   }
  }
 },
 "nbformat": 4,
 "nbformat_minor": 2
}
