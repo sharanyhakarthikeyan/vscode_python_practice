{
 "cells": [
  {
   "cell_type": "code",
   "execution_count": 1,
   "metadata": {},
   "outputs": [
    {
     "name": "stdout",
     "output_type": "stream",
     "text": [
      "ShaKi.inkcoasters@gmail.com\n"
     ]
    }
   ],
   "source": [
    "first_name= input(\"Enter your first name:\")\n",
    "first_name_intial = first_name[0:3]\n",
    "last_name = input(\"Enter your last name: \")\n",
    "last_name_intial = last_name[0:2]\n",
    "\n",
    "print(str(first_name_intial)+ str(last_name_intial)+ \".inkcoasters@gmail.com\")"
   ]
  }
 ],
 "metadata": {
  "kernelspec": {
   "display_name": "Python 3.9.7 ('base')",
   "language": "python",
   "name": "python3"
  },
  "language_info": {
   "codemirror_mode": {
    "name": "ipython",
    "version": 3
   },
   "file_extension": ".py",
   "mimetype": "text/x-python",
   "name": "python",
   "nbconvert_exporter": "python",
   "pygments_lexer": "ipython3",
   "version": "3.9.7"
  },
  "orig_nbformat": 4,
  "vscode": {
   "interpreter": {
    "hash": "1aef0a2758a8c9f5747e4b1e4b5e16b7002f3795f603bca30e6d263bc6b92944"
   }
  }
 },
 "nbformat": 4,
 "nbformat_minor": 2
}
